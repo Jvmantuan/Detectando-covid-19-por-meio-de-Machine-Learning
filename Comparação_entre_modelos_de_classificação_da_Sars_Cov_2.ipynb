{
  "nbformat": 4,
  "nbformat_minor": 0,
  "metadata": {
    "colab": {
      "name": "Projeto_AMA.ipynb",
      "provenance": [],
      "collapsed_sections": []
    },
    "kernelspec": {
      "display_name": "Python 3",
      "language": "python",
      "name": "python3"
    },
    "language_info": {
      "codemirror_mode": {
        "name": "ipython",
        "version": 3
      },
      "file_extension": ".py",
      "mimetype": "text/x-python",
      "name": "python",
      "nbconvert_exporter": "python",
      "pygments_lexer": "ipython3",
      "version": "3.8.8"
    }
  },
  "cells": [
    {
      "cell_type": "markdown",
      "metadata": {
        "id": "GPT4n0LbI73g"
      },
      "source": [
        "# Comparação entre modelos de classificação para Sars-Cov-2"
      ]
    },
    {
      "cell_type": "code",
      "metadata": {
        "id": "za3MAMy8DuKs"
      },
      "source": [
        "import pandas as pd\n",
        "import numpy as np\n",
        "from sklearn.model_selection import GridSearchCV, StratifiedKFold, train_test_split, KFold, learning_curve, ShuffleSplit\n",
        "from sklearn.neural_network import MLPClassifier\n",
        "from sklearn.linear_model import LogisticRegression\n",
        "from sklearn.preprocessing import StandardScaler, MinMaxScaler\n",
        "from sklearn.svm import SVC\n",
        "import matplotlib.pyplot as plt\n",
        "import seaborn as sns\n",
        "from sklearn.tree import DecisionTreeClassifier"
      ],
      "execution_count": 2,
      "outputs": []
    },
    {
      "cell_type": "code",
      "metadata": {
        "colab": {
          "base_uri": "https://localhost:8080/"
        },
        "id": "hKfwfQPpkFTC",
        "outputId": "45d618e1-10e6-4822-db00-fffcca459431"
      },
      "source": [
        "from google.colab import drive\n",
        "drive.mount('/content/drive')"
      ],
      "execution_count": 3,
      "outputs": [
        {
          "output_type": "stream",
          "text": [
            "Drive already mounted at /content/drive; to attempt to forcibly remount, call drive.mount(\"/content/drive\", force_remount=True).\n"
          ],
          "name": "stdout"
        }
      ]
    },
    {
      "cell_type": "markdown",
      "metadata": {
        "id": "8cHxgS45ogwk"
      },
      "source": [
        "## Funções principais"
      ]
    },
    {
      "cell_type": "code",
      "metadata": {
        "id": "ehchuGPm0nMs"
      },
      "source": [
        "def accuracy (y, y_pred):\n",
        "    count = 0\n",
        "    for i in range(len(y)):\n",
        "        if y[i] == y_pred[i]:\n",
        "             count += 1 \n",
        " \n",
        "    return count / len(y)\n",
        "    \n",
        "def recall (y, y_pred):\n",
        "    tp, fn = 0, 0\n",
        "    \n",
        "    for i in range(len(y)):\n",
        "        if(y[i] == y_pred[i]):\n",
        "            tp += 1\n",
        "        else:\n",
        "            fn += 1\n",
        "    \n",
        "    return tp / (tp + fn)\n",
        " \n",
        "def precision (y, y_pred):\n",
        "    tp, fp = 0, 0\n",
        "    \n",
        "    for i in range(len(y)):\n",
        "        if y[i] == y_pred[i]:\n",
        "            tp += 1\n",
        "        elif y[i] == 1 and y_pred[i] == 0:\n",
        "            fp += 1\n",
        "    \n",
        "    return tp / (tp + fp)\n",
        " \n",
        "def F1 (y, y_pred):\n",
        "    tp, fp, fn = 0, 0, 0\n",
        "    \n",
        "    for i in range(len(y)):\n",
        "        if y[i] == y_pred[i]:\n",
        "            tp += 1\n",
        "        elif y[i] == 1 and y_pred[i] == 0:\n",
        "            fp += 1\n",
        "        else:\n",
        "            fn += 1\n",
        "            \n",
        "    return tp / (tp + 0.5 * (fp + fn))"
      ],
      "execution_count": 4,
      "outputs": []
    },
    {
      "cell_type": "code",
      "metadata": {
        "id": "Mg0wkFFmWg78"
      },
      "source": [
        "def compute_metrics(y, y_pred):\n",
        "    metrics = {\n",
        "        'Acurácia': accuracy(y, y_pred), \n",
        "        'Precisão': precision(y, y_pred), \n",
        "        'Recall': recall(y, y_pred), \n",
        "        'F1-Score': F1(y, y_pred)\n",
        "    }\n",
        "\n",
        "    return pd.DataFrame(pd.Series(metrics))"
      ],
      "execution_count": 5,
      "outputs": []
    },
    {
      "cell_type": "code",
      "metadata": {
        "id": "l2acUjDrf8EK",
        "scrolled": false
      },
      "source": [
        "class LogisticReg:\n",
        "    def __init__(self, n_iter=200):\n",
        "        self.n_iter = n_iter\n",
        "\n",
        "    def fit(self, X_train, y_train, params, cv):\n",
        "        self.estimator = LogisticRegression(max_iter=self.n_iter)\n",
        "        gs = GridSearchCV(estimator=self.estimator, param_grid=params, cv=cv)\n",
        "        gs.fit(X_train, y_train)\n",
        "        self.best_params = gs.best_params_\n",
        "\n",
        "        self.estimator = LogisticRegression(max_iter=self.n_iter, **self.best_params)\n",
        "        self.estimator.fit(X_train, y_train)\n",
        "    \n",
        "    def predict(self, X_test):\n",
        "        pred = self.estimator.predict(X_test)\n",
        "        self.best_estimator = self.estimator\n",
        "        return pred\n",
        "\n",
        "    def calc_metrics(self, y_test, pred):\n",
        "        self.metrics = compute_metrics(y_test, pred)\n",
        "        self.metrics.rename(columns={0: 'Reg. Log.'})\n",
        "\n",
        "    def plot_metrics(self):\n",
        "        plt.title('Métricas do Modelo')\n",
        "        self.metrics.rename(columns={0: 'Reg. Log.'})\n",
        "        sns.barplot(x=self.metrics.index.to_list(), y=self.metrics[0])\n",
        "        plt.show()"
      ],
      "execution_count": 6,
      "outputs": []
    },
    {
      "cell_type": "code",
      "metadata": {
        "id": "f5utDVQdNQjV"
      },
      "source": [
        "class SVM:\n",
        "    def __init__(self, n_iter=200):\n",
        "        self.n_iter = n_iter\n",
        "\n",
        "    def fit(self, X_train, y_train, params, cv):\n",
        "        self.estimator = SVC(kernel='rbf', max_iter=self.n_iter)\n",
        "        gs = GridSearchCV(self.estimator, param_grid=params, cv=cv)\n",
        "        gs.fit(X_train, y_train)\n",
        "        self.best_params = gs.best_params_\n",
        "\n",
        "        self.estimator = SVC(kernel='rbf', max_iter=self.n_iter, **self.best_params)\n",
        "        self.estimator.fit(X_train, y_train)\n",
        "\n",
        "    def predict(self, X_test):\n",
        "        pred = self.estimator.predict(X_test)\n",
        "        self.best_estimator = self.estimator\n",
        "        return pred\n",
        "    \n",
        "    def calc_metrics(self, y_test, pred):\n",
        "        self.metrics = compute_metrics(y_test, pred)\n",
        "        self.metrics.rename(columns={0: 'SVM'})\n",
        "\n",
        "    def plot_metrics(self):\n",
        "        plt.title('Métricas do Modelo')\n",
        "        self.metrics.rename(columns={0: 'SVM'})\n",
        "        sns.barplot(x=self.metrics.index.to_list(), y=self.metrics[0])\n",
        "        plt.show()"
      ],
      "execution_count": 7,
      "outputs": []
    },
    {
      "cell_type": "code",
      "metadata": {
        "id": "tpd6IvMXsiXU"
      },
      "source": [
        "class MLP:\n",
        "    def __init__(self, n_iter=200):\n",
        "        self.n_iter = n_iter\n",
        "\n",
        "    def fit(self, X_train, y_train, params, cv):\n",
        "        self.estimator = MLPClassifier(solver='sgd', max_iter=self.n_iter, verbose=2)\n",
        "\n",
        "        gs = GridSearchCV(estimator=self.estimator, param_grid=params, cv=cv)\n",
        "        gs.fit(X_train, y_train)\n",
        "        self.best_params = gs.best_params_\n",
        "\n",
        "        self.estimator = MLPClassifier(solver='sgd', max_iter=self.n_iter, **self.best_params)\n",
        "        self.estimator.fit(X_train, y_train)\n",
        "\n",
        "    def predict(self, X_test):\n",
        "        pred = self.estimator.predict(X_test)\n",
        "        self.best_estimator = self.estimator\n",
        "        return pred\n",
        "\n",
        "    def calc_metrics(self, y_test, pred):\n",
        "        self.metrics = compute_metrics(y_test, pred)\n",
        "        self.metrics.rename(columns={0: 'MLP'})\n",
        "\n",
        "    def plot_metrics(self):\n",
        "        plt.title('Métricas do Modelo')\n",
        "        self.metrics.rename(columns={0: 'MLP'})\n",
        "        sns.barplot(x=self.metrics.index.to_list(), y=self.metrics[0])\n",
        "        plt.show()"
      ],
      "execution_count": 19,
      "outputs": []
    },
    {
      "cell_type": "markdown",
      "metadata": {
        "id": "AipJ6brwokNc"
      },
      "source": [
        "## Carregando a base de dados"
      ]
    },
    {
      "cell_type": "code",
      "metadata": {
        "id": "pEQKDNG6f8EH"
      },
      "source": [
        "cols = pd.read_csv('/content/drive/MyDrive/Colab Notebooks/srag_cov_columns.csv', delimiter=';')\n",
        "columns = cols['Colunas CLASS'].dropna().tolist()"
      ],
      "execution_count": 10,
      "outputs": []
    },
    {
      "cell_type": "code",
      "metadata": {
        "id": "oCEX6t4rf8EH"
      },
      "source": [
        "dataset = pd.read_csv('/content/drive/MyDrive/Colab Notebooks/srag_cov_class.csv', sep=',', usecols=columns)"
      ],
      "execution_count": 37,
      "outputs": []
    },
    {
      "cell_type": "code",
      "metadata": {
        "colab": {
          "base_uri": "https://localhost:8080/",
          "height": 224
        },
        "id": "VmaHJhby5JT2",
        "outputId": "9cfbb808-6602-4024-e90e-e0c606ebe074"
      },
      "source": [
        "dataset.head()"
      ],
      "execution_count": 39,
      "outputs": [
        {
          "output_type": "execute_result",
          "data": {
            "text/html": [
              "<div>\n",
              "<style scoped>\n",
              "    .dataframe tbody tr th:only-of-type {\n",
              "        vertical-align: middle;\n",
              "    }\n",
              "\n",
              "    .dataframe tbody tr th {\n",
              "        vertical-align: top;\n",
              "    }\n",
              "\n",
              "    .dataframe thead th {\n",
              "        text-align: right;\n",
              "    }\n",
              "</style>\n",
              "<table border=\"1\" class=\"dataframe\">\n",
              "  <thead>\n",
              "    <tr style=\"text-align: right;\">\n",
              "      <th></th>\n",
              "      <th>CS_SEXO</th>\n",
              "      <th>NU_IDADE_N</th>\n",
              "      <th>TP_IDADE</th>\n",
              "      <th>CS_GESTANT</th>\n",
              "      <th>CS_RACA</th>\n",
              "      <th>CS_ESCOL_N</th>\n",
              "      <th>CO_PAIS</th>\n",
              "      <th>CS_ZONA</th>\n",
              "      <th>SURTO_SG</th>\n",
              "      <th>NOSOCOMIAL</th>\n",
              "      <th>AVE_SUINO</th>\n",
              "      <th>FEBRE</th>\n",
              "      <th>TOSSE</th>\n",
              "      <th>GARGANTA</th>\n",
              "      <th>DISPNEIA</th>\n",
              "      <th>DESC_RESP</th>\n",
              "      <th>SATURACAO</th>\n",
              "      <th>DIARREIA</th>\n",
              "      <th>VOMITO</th>\n",
              "      <th>OUTRO_SIN</th>\n",
              "      <th>PUERPERA</th>\n",
              "      <th>FATOR_RISC</th>\n",
              "      <th>CARDIOPATI</th>\n",
              "      <th>HEMATOLOGI</th>\n",
              "      <th>SIND_DOWN</th>\n",
              "      <th>HEPATICA</th>\n",
              "      <th>ASMA</th>\n",
              "      <th>DIABETES</th>\n",
              "      <th>NEUROLOGIC</th>\n",
              "      <th>PNEUMOPATI</th>\n",
              "      <th>IMUNODEPRE</th>\n",
              "      <th>RENAL</th>\n",
              "      <th>OBESIDADE</th>\n",
              "      <th>OBES_IMC</th>\n",
              "      <th>OUT_MORBI</th>\n",
              "      <th>VACINA</th>\n",
              "      <th>ANTIVIRAL</th>\n",
              "      <th>TP_ANTIVIR</th>\n",
              "      <th>HOSPITAL</th>\n",
              "      <th>UTI</th>\n",
              "      <th>SUPORT_VEN</th>\n",
              "      <th>RAIOX_RES</th>\n",
              "      <th>AMOSTRA</th>\n",
              "      <th>TP_AMOSTRA</th>\n",
              "      <th>PCR_RESUL</th>\n",
              "      <th>POS_PCRFLU</th>\n",
              "      <th>TP_FLU_PCR</th>\n",
              "      <th>POS_PCROUT</th>\n",
              "      <th>PCR_VSR</th>\n",
              "      <th>PCR_PARA1</th>\n",
              "      <th>PCR_PARA2</th>\n",
              "      <th>PCR_PARA3</th>\n",
              "      <th>PCR_PARA4</th>\n",
              "      <th>PCR_ADENO</th>\n",
              "      <th>PCR_METAP</th>\n",
              "      <th>PCR_BOCA</th>\n",
              "      <th>PCR_RINO</th>\n",
              "      <th>PCR_OUTRO</th>\n",
              "      <th>CRITERIO</th>\n",
              "      <th>EVOLUCAO</th>\n",
              "      <th>PCR_SARS2</th>\n",
              "      <th>DOR_ABD</th>\n",
              "      <th>FADIGA</th>\n",
              "      <th>PERD_OLFT</th>\n",
              "      <th>PERD_PALA</th>\n",
              "      <th>TOMO_RES</th>\n",
              "      <th>TP_TES_AN</th>\n",
              "      <th>RES_AN</th>\n",
              "      <th>POS_AN_FLU</th>\n",
              "      <th>TP_FLU_AN</th>\n",
              "      <th>POS_AN_OUT</th>\n",
              "      <th>AN_SARS2</th>\n",
              "      <th>TP_AM_SOR</th>\n",
              "      <th>TP_SOR</th>\n",
              "      <th>RES_IGG</th>\n",
              "      <th>RES_IGM</th>\n",
              "      <th>RES_IGA</th>\n",
              "      <th>VACINA_COV</th>\n",
              "      <th>CLASSI_FIN</th>\n",
              "    </tr>\n",
              "  </thead>\n",
              "  <tbody>\n",
              "    <tr>\n",
              "      <th>0</th>\n",
              "      <td>1</td>\n",
              "      <td>67</td>\n",
              "      <td>3</td>\n",
              "      <td>6</td>\n",
              "      <td>2</td>\n",
              "      <td>9.0</td>\n",
              "      <td>1</td>\n",
              "      <td>1.0</td>\n",
              "      <td>9.0</td>\n",
              "      <td>9.0</td>\n",
              "      <td>9.0</td>\n",
              "      <td>2.0</td>\n",
              "      <td>1.0</td>\n",
              "      <td>2.0</td>\n",
              "      <td>2.0</td>\n",
              "      <td>2.0</td>\n",
              "      <td>2.0</td>\n",
              "      <td>9.0</td>\n",
              "      <td>1.0</td>\n",
              "      <td>2.0</td>\n",
              "      <td>2.0</td>\n",
              "      <td>1</td>\n",
              "      <td>1.0</td>\n",
              "      <td>2.0</td>\n",
              "      <td>2.0</td>\n",
              "      <td>2.0</td>\n",
              "      <td>2.0</td>\n",
              "      <td>2.0</td>\n",
              "      <td>2.0</td>\n",
              "      <td>2.0</td>\n",
              "      <td>2.0</td>\n",
              "      <td>2.0</td>\n",
              "      <td>2.0</td>\n",
              "      <td>9.0</td>\n",
              "      <td>2.0</td>\n",
              "      <td>2.0</td>\n",
              "      <td>2.0</td>\n",
              "      <td>9.0</td>\n",
              "      <td>1.0</td>\n",
              "      <td>2.0</td>\n",
              "      <td>9.0</td>\n",
              "      <td>9.0</td>\n",
              "      <td>1.0</td>\n",
              "      <td>4.0</td>\n",
              "      <td>4.0</td>\n",
              "      <td>9.0</td>\n",
              "      <td>9.0</td>\n",
              "      <td>9.0</td>\n",
              "      <td>9.0</td>\n",
              "      <td>9.0</td>\n",
              "      <td>9.0</td>\n",
              "      <td>9.0</td>\n",
              "      <td>9.0</td>\n",
              "      <td>9.0</td>\n",
              "      <td>9.0</td>\n",
              "      <td>9.0</td>\n",
              "      <td>9.0</td>\n",
              "      <td>9.0</td>\n",
              "      <td>1.0</td>\n",
              "      <td>1.0</td>\n",
              "      <td>9.0</td>\n",
              "      <td>2.0</td>\n",
              "      <td>2.0</td>\n",
              "      <td>2.0</td>\n",
              "      <td>2.0</td>\n",
              "      <td>9.0</td>\n",
              "      <td>9.0</td>\n",
              "      <td>4.0</td>\n",
              "      <td>9.0</td>\n",
              "      <td>9.0</td>\n",
              "      <td>9.0</td>\n",
              "      <td>9.0</td>\n",
              "      <td>1.0</td>\n",
              "      <td>1.0</td>\n",
              "      <td>2.0</td>\n",
              "      <td>2.0</td>\n",
              "      <td>4.0</td>\n",
              "      <td>9.0</td>\n",
              "      <td>1.0</td>\n",
              "    </tr>\n",
              "    <tr>\n",
              "      <th>1</th>\n",
              "      <td>1</td>\n",
              "      <td>81</td>\n",
              "      <td>3</td>\n",
              "      <td>6</td>\n",
              "      <td>4</td>\n",
              "      <td>9.0</td>\n",
              "      <td>1</td>\n",
              "      <td>1.0</td>\n",
              "      <td>9.0</td>\n",
              "      <td>9.0</td>\n",
              "      <td>9.0</td>\n",
              "      <td>1.0</td>\n",
              "      <td>9.0</td>\n",
              "      <td>1.0</td>\n",
              "      <td>9.0</td>\n",
              "      <td>9.0</td>\n",
              "      <td>9.0</td>\n",
              "      <td>9.0</td>\n",
              "      <td>9.0</td>\n",
              "      <td>9.0</td>\n",
              "      <td>9.0</td>\n",
              "      <td>2</td>\n",
              "      <td>9.0</td>\n",
              "      <td>9.0</td>\n",
              "      <td>9.0</td>\n",
              "      <td>9.0</td>\n",
              "      <td>9.0</td>\n",
              "      <td>9.0</td>\n",
              "      <td>9.0</td>\n",
              "      <td>9.0</td>\n",
              "      <td>9.0</td>\n",
              "      <td>9.0</td>\n",
              "      <td>9.0</td>\n",
              "      <td>9.0</td>\n",
              "      <td>9.0</td>\n",
              "      <td>9.0</td>\n",
              "      <td>9.0</td>\n",
              "      <td>9.0</td>\n",
              "      <td>1.0</td>\n",
              "      <td>9.0</td>\n",
              "      <td>9.0</td>\n",
              "      <td>9.0</td>\n",
              "      <td>9.0</td>\n",
              "      <td>9.0</td>\n",
              "      <td>9.0</td>\n",
              "      <td>9.0</td>\n",
              "      <td>9.0</td>\n",
              "      <td>9.0</td>\n",
              "      <td>9.0</td>\n",
              "      <td>9.0</td>\n",
              "      <td>9.0</td>\n",
              "      <td>9.0</td>\n",
              "      <td>9.0</td>\n",
              "      <td>9.0</td>\n",
              "      <td>9.0</td>\n",
              "      <td>9.0</td>\n",
              "      <td>9.0</td>\n",
              "      <td>9.0</td>\n",
              "      <td>4.0</td>\n",
              "      <td>9.0</td>\n",
              "      <td>9.0</td>\n",
              "      <td>9.0</td>\n",
              "      <td>9.0</td>\n",
              "      <td>9.0</td>\n",
              "      <td>9.0</td>\n",
              "      <td>9.0</td>\n",
              "      <td>9.0</td>\n",
              "      <td>9.0</td>\n",
              "      <td>9.0</td>\n",
              "      <td>9.0</td>\n",
              "      <td>9.0</td>\n",
              "      <td>9.0</td>\n",
              "      <td>9.0</td>\n",
              "      <td>9.0</td>\n",
              "      <td>9.0</td>\n",
              "      <td>9.0</td>\n",
              "      <td>9.0</td>\n",
              "      <td>9.0</td>\n",
              "      <td>5.0</td>\n",
              "    </tr>\n",
              "    <tr>\n",
              "      <th>2</th>\n",
              "      <td>2</td>\n",
              "      <td>90</td>\n",
              "      <td>3</td>\n",
              "      <td>5</td>\n",
              "      <td>1</td>\n",
              "      <td>9.0</td>\n",
              "      <td>1</td>\n",
              "      <td>2.0</td>\n",
              "      <td>2.0</td>\n",
              "      <td>9.0</td>\n",
              "      <td>2.0</td>\n",
              "      <td>2.0</td>\n",
              "      <td>1.0</td>\n",
              "      <td>2.0</td>\n",
              "      <td>1.0</td>\n",
              "      <td>1.0</td>\n",
              "      <td>1.0</td>\n",
              "      <td>2.0</td>\n",
              "      <td>2.0</td>\n",
              "      <td>2.0</td>\n",
              "      <td>9.0</td>\n",
              "      <td>2</td>\n",
              "      <td>9.0</td>\n",
              "      <td>9.0</td>\n",
              "      <td>9.0</td>\n",
              "      <td>9.0</td>\n",
              "      <td>9.0</td>\n",
              "      <td>9.0</td>\n",
              "      <td>9.0</td>\n",
              "      <td>9.0</td>\n",
              "      <td>9.0</td>\n",
              "      <td>9.0</td>\n",
              "      <td>9.0</td>\n",
              "      <td>9.0</td>\n",
              "      <td>9.0</td>\n",
              "      <td>2.0</td>\n",
              "      <td>2.0</td>\n",
              "      <td>9.0</td>\n",
              "      <td>1.0</td>\n",
              "      <td>2.0</td>\n",
              "      <td>2.0</td>\n",
              "      <td>9.0</td>\n",
              "      <td>1.0</td>\n",
              "      <td>1.0</td>\n",
              "      <td>5.0</td>\n",
              "      <td>9.0</td>\n",
              "      <td>9.0</td>\n",
              "      <td>9.0</td>\n",
              "      <td>9.0</td>\n",
              "      <td>9.0</td>\n",
              "      <td>9.0</td>\n",
              "      <td>9.0</td>\n",
              "      <td>9.0</td>\n",
              "      <td>9.0</td>\n",
              "      <td>9.0</td>\n",
              "      <td>9.0</td>\n",
              "      <td>9.0</td>\n",
              "      <td>9.0</td>\n",
              "      <td>1.0</td>\n",
              "      <td>2.0</td>\n",
              "      <td>9.0</td>\n",
              "      <td>2.0</td>\n",
              "      <td>2.0</td>\n",
              "      <td>2.0</td>\n",
              "      <td>2.0</td>\n",
              "      <td>9.0</td>\n",
              "      <td>2.0</td>\n",
              "      <td>1.0</td>\n",
              "      <td>9.0</td>\n",
              "      <td>9.0</td>\n",
              "      <td>1.0</td>\n",
              "      <td>1.0</td>\n",
              "      <td>9.0</td>\n",
              "      <td>9.0</td>\n",
              "      <td>9.0</td>\n",
              "      <td>9.0</td>\n",
              "      <td>9.0</td>\n",
              "      <td>9.0</td>\n",
              "      <td>5.0</td>\n",
              "    </tr>\n",
              "    <tr>\n",
              "      <th>3</th>\n",
              "      <td>1</td>\n",
              "      <td>18</td>\n",
              "      <td>3</td>\n",
              "      <td>6</td>\n",
              "      <td>2</td>\n",
              "      <td>9.0</td>\n",
              "      <td>1</td>\n",
              "      <td>1.0</td>\n",
              "      <td>2.0</td>\n",
              "      <td>2.0</td>\n",
              "      <td>2.0</td>\n",
              "      <td>1.0</td>\n",
              "      <td>1.0</td>\n",
              "      <td>2.0</td>\n",
              "      <td>1.0</td>\n",
              "      <td>1.0</td>\n",
              "      <td>2.0</td>\n",
              "      <td>1.0</td>\n",
              "      <td>1.0</td>\n",
              "      <td>1.0</td>\n",
              "      <td>9.0</td>\n",
              "      <td>2</td>\n",
              "      <td>9.0</td>\n",
              "      <td>9.0</td>\n",
              "      <td>9.0</td>\n",
              "      <td>9.0</td>\n",
              "      <td>9.0</td>\n",
              "      <td>9.0</td>\n",
              "      <td>9.0</td>\n",
              "      <td>9.0</td>\n",
              "      <td>9.0</td>\n",
              "      <td>9.0</td>\n",
              "      <td>9.0</td>\n",
              "      <td>9.0</td>\n",
              "      <td>9.0</td>\n",
              "      <td>2.0</td>\n",
              "      <td>2.0</td>\n",
              "      <td>9.0</td>\n",
              "      <td>1.0</td>\n",
              "      <td>2.0</td>\n",
              "      <td>3.0</td>\n",
              "      <td>6.0</td>\n",
              "      <td>1.0</td>\n",
              "      <td>1.0</td>\n",
              "      <td>1.0</td>\n",
              "      <td>2.0</td>\n",
              "      <td>9.0</td>\n",
              "      <td>1.0</td>\n",
              "      <td>9.0</td>\n",
              "      <td>9.0</td>\n",
              "      <td>9.0</td>\n",
              "      <td>9.0</td>\n",
              "      <td>9.0</td>\n",
              "      <td>9.0</td>\n",
              "      <td>9.0</td>\n",
              "      <td>9.0</td>\n",
              "      <td>9.0</td>\n",
              "      <td>9.0</td>\n",
              "      <td>1.0</td>\n",
              "      <td>1.0</td>\n",
              "      <td>1.0</td>\n",
              "      <td>2.0</td>\n",
              "      <td>2.0</td>\n",
              "      <td>2.0</td>\n",
              "      <td>2.0</td>\n",
              "      <td>6.0</td>\n",
              "      <td>9.0</td>\n",
              "      <td>4.0</td>\n",
              "      <td>9.0</td>\n",
              "      <td>9.0</td>\n",
              "      <td>9.0</td>\n",
              "      <td>9.0</td>\n",
              "      <td>9.0</td>\n",
              "      <td>9.0</td>\n",
              "      <td>9.0</td>\n",
              "      <td>9.0</td>\n",
              "      <td>9.0</td>\n",
              "      <td>9.0</td>\n",
              "      <td>5.0</td>\n",
              "    </tr>\n",
              "    <tr>\n",
              "      <th>4</th>\n",
              "      <td>2</td>\n",
              "      <td>83</td>\n",
              "      <td>3</td>\n",
              "      <td>5</td>\n",
              "      <td>1</td>\n",
              "      <td>9.0</td>\n",
              "      <td>1</td>\n",
              "      <td>1.0</td>\n",
              "      <td>1.0</td>\n",
              "      <td>2.0</td>\n",
              "      <td>2.0</td>\n",
              "      <td>2.0</td>\n",
              "      <td>2.0</td>\n",
              "      <td>2.0</td>\n",
              "      <td>2.0</td>\n",
              "      <td>2.0</td>\n",
              "      <td>2.0</td>\n",
              "      <td>2.0</td>\n",
              "      <td>2.0</td>\n",
              "      <td>1.0</td>\n",
              "      <td>2.0</td>\n",
              "      <td>1</td>\n",
              "      <td>1.0</td>\n",
              "      <td>2.0</td>\n",
              "      <td>2.0</td>\n",
              "      <td>2.0</td>\n",
              "      <td>2.0</td>\n",
              "      <td>2.0</td>\n",
              "      <td>2.0</td>\n",
              "      <td>2.0</td>\n",
              "      <td>2.0</td>\n",
              "      <td>2.0</td>\n",
              "      <td>2.0</td>\n",
              "      <td>9.0</td>\n",
              "      <td>2.0</td>\n",
              "      <td>9.0</td>\n",
              "      <td>9.0</td>\n",
              "      <td>9.0</td>\n",
              "      <td>1.0</td>\n",
              "      <td>2.0</td>\n",
              "      <td>3.0</td>\n",
              "      <td>5.0</td>\n",
              "      <td>1.0</td>\n",
              "      <td>1.0</td>\n",
              "      <td>2.0</td>\n",
              "      <td>9.0</td>\n",
              "      <td>9.0</td>\n",
              "      <td>9.0</td>\n",
              "      <td>9.0</td>\n",
              "      <td>9.0</td>\n",
              "      <td>9.0</td>\n",
              "      <td>9.0</td>\n",
              "      <td>9.0</td>\n",
              "      <td>9.0</td>\n",
              "      <td>9.0</td>\n",
              "      <td>9.0</td>\n",
              "      <td>9.0</td>\n",
              "      <td>9.0</td>\n",
              "      <td>3.0</td>\n",
              "      <td>1.0</td>\n",
              "      <td>9.0</td>\n",
              "      <td>2.0</td>\n",
              "      <td>2.0</td>\n",
              "      <td>2.0</td>\n",
              "      <td>2.0</td>\n",
              "      <td>2.0</td>\n",
              "      <td>9.0</td>\n",
              "      <td>5.0</td>\n",
              "      <td>9.0</td>\n",
              "      <td>9.0</td>\n",
              "      <td>9.0</td>\n",
              "      <td>9.0</td>\n",
              "      <td>9.0</td>\n",
              "      <td>9.0</td>\n",
              "      <td>9.0</td>\n",
              "      <td>9.0</td>\n",
              "      <td>9.0</td>\n",
              "      <td>9.0</td>\n",
              "      <td>1.0</td>\n",
              "    </tr>\n",
              "  </tbody>\n",
              "</table>\n",
              "</div>"
            ],
            "text/plain": [
              "   CS_SEXO  NU_IDADE_N  TP_IDADE  ...  RES_IGA  VACINA_COV  CLASSI_FIN\n",
              "0        1          67         3  ...      4.0         9.0         1.0\n",
              "1        1          81         3  ...      9.0         9.0         5.0\n",
              "2        2          90         3  ...      9.0         9.0         5.0\n",
              "3        1          18         3  ...      9.0         9.0         5.0\n",
              "4        2          83         3  ...      9.0         9.0         1.0\n",
              "\n",
              "[5 rows x 79 columns]"
            ]
          },
          "metadata": {},
          "execution_count": 39
        }
      ]
    },
    {
      "cell_type": "code",
      "metadata": {
        "id": "co55rsi9f8EJ"
      },
      "source": [
        "y = dataset['CLASSI_FIN'].to_numpy()\n",
        "X = dataset.drop('CLASSI_FIN', axis=1).to_numpy()\n",
        "\n",
        "scaler = MinMaxScaler()\n",
        "\n",
        "X_train, X_test, y_train, y_test = train_test_split(X, y, random_state=123, test_size=0.2)\n",
        "\n",
        "scaler.fit(X_train)\n",
        "X_train = scaler.transform(X_train)\n",
        "X_test = scaler.transform(X_test)\n",
        "\n",
        "skf = KFold(n_splits=5)"
      ],
      "execution_count": 12,
      "outputs": []
    },
    {
      "cell_type": "markdown",
      "metadata": {
        "id": "tQ_gUiNbobMP"
      },
      "source": [
        "## Treinando a Regressão Logística"
      ]
    },
    {
      "cell_type": "code",
      "metadata": {
        "id": "_Z6679lX1DF3"
      },
      "source": [
        "params_lr = {'C': [1, 10, 100, 1000, 10000]}\n",
        "log_reg = LogisticReg(n_iter=100)\n",
        "log_reg.fit(X_train, y_train, params_lr, skf)\n",
        "pred_lr = log_reg.predict(X_test)"
      ],
      "execution_count": null,
      "outputs": []
    },
    {
      "cell_type": "markdown",
      "metadata": {
        "id": "mjaCZgkiSN_E"
      },
      "source": [
        "## Métricas e melhores parâmetros"
      ]
    },
    {
      "cell_type": "code",
      "metadata": {
        "colab": {
          "base_uri": "https://localhost:8080/",
          "height": 417
        },
        "id": "xTSoGxmDn7Kd",
        "outputId": "73afdf2c-19b7-4ce3-9c06-6911aa2b8ec0"
      },
      "source": [
        "print(f'Melhores parâmetros: {log_reg.best_params}')\n",
        "print('\\nMétricas:')\n",
        "metrics_lr = log_reg.calc_metrics(y_test, pred_lr)\n",
        "print(log_reg.metrics[0])\n",
        "log_reg.plot_metrics()"
      ],
      "execution_count": 133,
      "outputs": [
        {
          "output_type": "stream",
          "text": [
            "Melhores parâmetros: {'C': 1}\n",
            "\n",
            "Métricas:\n",
            "Acurácia    0.894227\n",
            "Precisão    1.000000\n",
            "Recall      0.894227\n",
            "F1-Score    0.944160\n",
            "Name: 0, dtype: float64\n"
          ],
          "name": "stdout"
        },
        {
          "output_type": "display_data",
          "data": {
            "image/png": "[encoded data removed]",
            "text/plain": [
              "<Figure size 432x288 with 1 Axes>"
            ]
          },
          "metadata": {
            "needs_background": "light"
          }
        }
      ]
    },
    {
      "cell_type": "markdown",
      "metadata": {
        "id": "cOBFYym_onV9"
      },
      "source": [
        "## Treinando o SVM"
      ]
    },
    {
      "cell_type": "code",
      "metadata": {
        "id": "WG0A_juyOCWV"
      },
      "source": [
        "gamma_range = np.array((2e-3, 2e-1, 2e1))\n",
        "c_range = np.array((2e-1, 2e1, 2e3))\n",
        "\n",
        "params_svm = dict(gamma=gamma_range, C=c_range)\n",
        "it = 200\n",
        "svm = SVM(n_iter=it)\n",
        "svm.fit(X_train, y_train, params_svm, skf)\n",
        "pred_svm = svm.predict(X_test)"
      ],
      "execution_count": null,
      "outputs": []
    },
    {
      "cell_type": "markdown",
      "metadata": {
        "id": "k715PDb-RQ8L"
      },
      "source": [
        "## Métricas e melhores parâmetros"
      ]
    },
    {
      "cell_type": "code",
      "metadata": {
        "colab": {
          "base_uri": "https://localhost:8080/",
          "height": 417
        },
        "id": "7lXjAMCQTXT4",
        "outputId": "7a28cab5-67f9-4c6d-867a-a9da3ca6a0e2"
      },
      "source": [
        "print(f'Melhores parâmetros: {svm.best_params}')\n",
        "print('\\nMétricas:')\n",
        "metrics_svm = svm.calc_metrics(y_test, pred_svm)\n",
        "print(svm.metrics[0])\n",
        "svm.plot_metrics()"
      ],
      "execution_count": 140,
      "outputs": [
        {
          "output_type": "stream",
          "text": [
            "Melhores parâmetros: {'C': 20.0, 'gamma': 20.0}\n",
            "\n",
            "Métricas:\n",
            "Acurácia    0.72643\n",
            "Precisão    1.00000\n",
            "Recall      0.72643\n",
            "F1-Score    0.84154\n",
            "Name: 0, dtype: float64\n"
          ],
          "name": "stdout"
        },
        {
          "output_type": "display_data",
          "data": {
            "image/png": "[encoded data removed]",
            "text/plain": [
              "<Figure size 432x288 with 1 Axes>"
            ]
          },
          "metadata": {
            "needs_background": "light"
          }
        }
      ]
    },
    {
      "cell_type": "markdown",
      "metadata": {
        "id": "z8QHUx6yopg8"
      },
      "source": [
        "## Treinando a Rede Neural"
      ]
    },
    {
      "cell_type": "code",
      "metadata": {
        "id": "Nl44hv6-lBqo"
      },
      "source": [
        "params_mlp = {'hidden_layer_sizes': [4, 16, 32], \n",
        "              'batch_size': [8, 16, 32]\n",
        "              }\n",
        "\n",
        "mlp = MLP(n_iter=3)\n",
        "mlp.fit(X_train, y_train, params_mlp, skf)\n",
        "pred_mlp = mlp.predict(X_test)"
      ],
      "execution_count": null,
      "outputs": []
    },
    {
      "cell_type": "code",
      "metadata": {
        "colab": {
          "base_uri": "https://localhost:8080/",
          "height": 417
        },
        "id": "T16B54muTKrh",
        "outputId": "1c10948e-829c-4f75-cf68-c53f23a02833"
      },
      "source": [
        "pred_mlp = mlp.predict(X_test)\n",
        "print(f'Melhores parâmetros: {mlp.best_params}')\n",
        "print('\\nMétricas:')\n",
        "metrics_mlp = compute_metrics(y_test, pred_mlp)\n",
        "metrics_mlp.rename(columns={0: 'MLP'}, inplace=True)\n",
        "print(metrics_mlp)\n",
        "\n",
        "plt.title('Métricas do Modelo')\n",
        "sns.barplot(x=metrics_mlp.index.to_list(), y=metrics_mlp['MLP'])\n",
        "plt.show()"
      ],
      "execution_count": 25,
      "outputs": [
        {
          "output_type": "stream",
          "text": [
            "Melhores parâmetros: {'batch_size': 8, 'hidden_layer_sizes': 32}\n",
            "\n",
            "Métricas:\n",
            "               MLP\n",
            "Acurácia  0.934400\n",
            "Precisão  1.000000\n",
            "Recall    0.934400\n",
            "F1-Score  0.966088\n"
          ],
          "name": "stdout"
        },
        {
          "output_type": "display_data",
          "data": {
            "image/png": "[encoded data removed]",
            "text/plain": [
              "<Figure size 432x288 with 1 Axes>"
            ]
          },
          "metadata": {
            "needs_background": "light"
          }
        }
      ]
    },
    {
      "cell_type": "markdown",
      "metadata": {
        "id": "EdP5PCr9lpJ_"
      },
      "source": [
        "## Tabela de Métricas"
      ]
    },
    {
      "cell_type": "code",
      "metadata": {
        "colab": {
          "base_uri": "https://localhost:8080/",
          "height": 173
        },
        "id": "Wwi84vPjQ_SB",
        "outputId": "1e873158-3791-40b2-aeaa-d0de76a0ad19"
      },
      "source": [
        "df = pd.DataFrame(pd.Series(metrics_lr))\n",
        "df['SVM'] = metrics_svm.values()\n",
        "df['MLP'] = metrics_mlp.values()\n",
        "df.rename(columns={0: 'Reg. Logística'})"
      ],
      "execution_count": 34,
      "outputs": [
        {
          "output_type": "execute_result",
          "data": {
            "text/html": [
              "<div>\n",
              "<style scoped>\n",
              "    .dataframe tbody tr th:only-of-type {\n",
              "        vertical-align: middle;\n",
              "    }\n",
              "\n",
              "    .dataframe tbody tr th {\n",
              "        vertical-align: top;\n",
              "    }\n",
              "\n",
              "    .dataframe thead th {\n",
              "        text-align: right;\n",
              "    }\n",
              "</style>\n",
              "<table border=\"1\" class=\"dataframe\">\n",
              "  <thead>\n",
              "    <tr style=\"text-align: right;\">\n",
              "      <th></th>\n",
              "      <th>Reg. Logística</th>\n",
              "      <th>SVM</th>\n",
              "      <th>MLP</th>\n",
              "    </tr>\n",
              "  </thead>\n",
              "  <tbody>\n",
              "    <tr>\n",
              "      <th>Acurácia</th>\n",
              "      <td>0.894227</td>\n",
              "      <td>0.72643</td>\n",
              "      <td>0.934400</td>\n",
              "    </tr>\n",
              "    <tr>\n",
              "      <th>Precisão</th>\n",
              "      <td>1.000000</td>\n",
              "      <td>1.00000</td>\n",
              "      <td>1.000000</td>\n",
              "    </tr>\n",
              "    <tr>\n",
              "      <th>Recall</th>\n",
              "      <td>0.894227</td>\n",
              "      <td>0.72643</td>\n",
              "      <td>0.934400</td>\n",
              "    </tr>\n",
              "    <tr>\n",
              "      <th>F1-Score</th>\n",
              "      <td>0.944160</td>\n",
              "      <td>0.84154</td>\n",
              "      <td>0.966088</td>\n",
              "    </tr>\n",
              "  </tbody>\n",
              "</table>\n",
              "</div>"
            ],
            "text/plain": [
              "          Reg. Logística      SVM       MLP\n",
              "Acurácia        0.894227  0.72643  0.934400\n",
              "Precisão        1.000000  1.00000  1.000000\n",
              "Recall          0.894227  0.72643  0.934400\n",
              "F1-Score        0.944160  0.84154  0.966088"
            ]
          },
          "metadata": {},
          "execution_count": 34
        }
      ]
    }
  ]
}